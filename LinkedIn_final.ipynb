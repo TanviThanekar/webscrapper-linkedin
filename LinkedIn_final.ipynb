{
 "cells": [
  {
   "cell_type": "code",
   "execution_count": 1,
   "metadata": {},
   "outputs": [],
   "source": [
    "# importing packages\n",
    "import pandas as pd\n",
    "import re\n",
    "\n",
    "from bs4 import BeautifulSoup\n",
    "from datetime import date, timedelta, datetime\n",
    "from IPython.core.display import clear_output\n",
    "from random import randint\n",
    "from requests import get\n",
    "from selenium import webdriver\n",
    "from selenium.webdriver.common.action_chains import ActionChains\n",
    "from time import sleep\n",
    "from time import time\n",
    "start_time = time()\n",
    "\n",
    "from warnings import warn"
   ]
  },
  {
   "cell_type": "code",
   "execution_count": 2,
   "metadata": {},
   "outputs": [
    {
     "name": "stdout",
     "output_type": "stream",
     "text": [
      "Enter Field/Job Title: Data Scientist\n",
      "Enter Location: India\n"
     ]
    }
   ],
   "source": [
    "# replace variables here.\n",
    "keywords = input(\"Enter Field/Job Title: \")\n",
    "location = input(\"Enter Location: \")\n",
    "url =('https://www.linkedin.com/jobs/search?keywords=%s&location=%s&sortBy=DD') % (keywords,location)\n",
    "\n",
    "#url = \"https://www.linkedin.com/jobs/search/?f_TPR=r604800&geoId=101174742&keywords=data%20scientist&location=India&sortBy=DD\"\n",
    "no_of_jobs = 25"
   ]
  },
  {
   "cell_type": "code",
   "execution_count": 3,
   "metadata": {},
   "outputs": [],
   "source": [
    "# this will open up new window with the url provided above \n",
    "driver = webdriver.Chrome()\n",
    "driver.get(url)\n",
    "sleep(3)\n",
    "action = ActionChains(driver)"
   ]
  },
  {
   "cell_type": "code",
   "execution_count": 4,
   "metadata": {},
   "outputs": [],
   "source": [
    "# to show more jobs. Depends on number of jobs selected\n",
    "i = 2\n",
    "while i <= (no_of_jobs/25): \n",
    "    driver.find_element_by_xpath('/html/body/main/div/section/button').click()\n",
    "    i = i + 1\n",
    "    sleep(5)"
   ]
  },
  {
   "cell_type": "code",
   "execution_count": 5,
   "metadata": {},
   "outputs": [
    {
     "name": "stdout",
     "output_type": "stream",
     "text": [
      "You are scraping information about 25 jobs.\n"
     ]
    }
   ],
   "source": [
    "# parsing the visible webpage\n",
    "pageSource = driver.page_source\n",
    "lxml_soup = BeautifulSoup(pageSource, 'lxml')\n",
    "\n",
    "# searching for all job containers\n",
    "job_container = lxml_soup.find('ul', class_ = 'jobs-search__results-list')\n",
    "\n",
    "print('You are scraping information about {} jobs.'.format(len(job_container)))"
   ]
  },
  {
   "cell_type": "code",
   "execution_count": 6,
   "metadata": {},
   "outputs": [],
   "source": [
    "job_id = []\n",
    "post_title = []\n",
    "company_name = []\n",
    "post_date = []\n",
    "job_location = []\n",
    "job_desc = []\n",
    "level = []\n",
    "emp_type = []\n",
    "functions = []\n",
    "industries = []\n",
    "\n",
    "# for loop for job title, company, id, location and date posted\n",
    "for job in job_container:\n",
    "    \n",
    "    # job title\n",
    "    job_titles = job.find(\"span\", class_=\"screen-reader-text\").text\n",
    "    post_title.append(job_titles)\n",
    "    \n",
    "    # linkedin job id\n",
    "    job_ids = job.find('a', href=True)['href']\n",
    "    job_ids = re.findall(r'(?!-)([0-9]*)(?=\\?)',job_ids)[0]\n",
    "    job_id.append(job_ids)\n",
    "    \n",
    "    # company name\n",
    "    company_names = job.select_one('img')['alt']\n",
    "    company_name.append(company_names)\n",
    "    \n",
    "    # job location\n",
    "    job_locations = job.find(\"span\", class_=\"job-result-card__location\").text\n",
    "    job_location.append(job_locations)\n",
    "    \n",
    "    # posting date\n",
    "    post_dates = job.select_one('time')['datetime']\n",
    "    post_date.append(post_dates)\n",
    "\n",
    "# for loop for job description and criterias\n",
    "for x in range(1,len(job_id)+1):\n",
    "    \n",
    "    # clicking on different job containers to view information about the job\n",
    "    job_xpath = '/html/body/main/div/section/ul/li[{}]/img'.format(x)\n",
    "    driver.find_element_by_xpath(job_xpath).click()\n",
    "    sleep(3)\n",
    "    \n",
    "    # job description\n",
    "    jobdesc_xpath = '/html/body/main/section/div[2]/section[2]/div'\n",
    "    job_descs = driver.find_element_by_xpath(jobdesc_xpath).text\n",
    "    job_desc.append(job_descs)\n",
    "    \n",
    "    # job criteria container below the description\n",
    "    job_criteria_container = lxml_soup.find('ul', class_ = 'job-criteria__list')\n",
    "    all_job_criterias = job_criteria_container.find_all(\"span\", class_='job-criteria__text job-criteria__text--criteria')\n",
    "    \n",
    "    # Seniority level\n",
    "    seniority_xpath = '/html/body/main/section/div[2]/section[2]/ul/li[1]'\n",
    "    seniority = driver.find_element_by_xpath(seniority_xpath).text.splitlines(0)[1]\n",
    "    level.append(seniority)\n",
    "    \n",
    "    # Employment type\n",
    "    type_xpath = '/html/body/main/section/div[2]/section[2]/ul/li[2]'\n",
    "    employment_type = driver.find_element_by_xpath(type_xpath).text.splitlines(0)[1]\n",
    "    emp_type.append(employment_type)\n",
    "    \n",
    "    # Job function\n",
    "    function_xpath = '/html/body/main/section/div[2]/section[2]/ul/li[3]'\n",
    "    job_function = driver.find_element_by_xpath(function_xpath).text.splitlines(0)[1]\n",
    "    functions.append(job_function)\n",
    "    \n",
    "    # Industries\n",
    "    industry_xpath = '/html/body/main/section/div[2]/section[2]/ul/li[4]'\n",
    "    industry_type = driver.find_element_by_xpath(industry_xpath).text.splitlines(0)[1]\n",
    "    industries.append(industry_type)\n",
    "    \n",
    "    x = x+1"
   ]
  },
  {
   "cell_type": "code",
   "execution_count": 7,
   "metadata": {},
   "outputs": [
    {
     "name": "stdout",
     "output_type": "stream",
     "text": [
      "25\n",
      "25\n",
      "25\n",
      "25\n",
      "25\n",
      "25\n",
      "25\n",
      "25\n",
      "25\n",
      "25\n"
     ]
    }
   ],
   "source": [
    "# to check if we have all information\n",
    "print(len(job_id))\n",
    "print(len(post_date))\n",
    "print(len(company_name))\n",
    "print(len(post_title))\n",
    "print(len(job_location))\n",
    "print(len(job_desc))\n",
    "print(len(level))\n",
    "print(len(emp_type))\n",
    "print(len(functions))\n",
    "print(len(industries))"
   ]
  },
  {
   "cell_type": "code",
   "execution_count": 8,
   "metadata": {},
   "outputs": [
    {
     "name": "stdout",
     "output_type": "stream",
     "text": [
      "<class 'pandas.core.frame.DataFrame'>\n",
      "RangeIndex: 25 entries, 0 to 24\n",
      "Data columns (total 10 columns):\n",
      " #   Column        Non-Null Count  Dtype \n",
      "---  ------        --------------  ----- \n",
      " 0   Job ID        25 non-null     object\n",
      " 1   Date          25 non-null     object\n",
      " 2   Company Name  25 non-null     object\n",
      " 3   Post          25 non-null     object\n",
      " 4   Location      25 non-null     object\n",
      " 5   Description   25 non-null     object\n",
      " 6   Level         25 non-null     object\n",
      " 7   Type          25 non-null     object\n",
      " 8   Function      25 non-null     object\n",
      " 9   Industry      25 non-null     object\n",
      "dtypes: object(10)\n",
      "memory usage: 2.1+ KB\n",
      "None\n"
     ]
    },
    {
     "data": {
      "text/html": [
       "<div>\n",
       "<style scoped>\n",
       "    .dataframe tbody tr th:only-of-type {\n",
       "        vertical-align: middle;\n",
       "    }\n",
       "\n",
       "    .dataframe tbody tr th {\n",
       "        vertical-align: top;\n",
       "    }\n",
       "\n",
       "    .dataframe thead th {\n",
       "        text-align: right;\n",
       "    }\n",
       "</style>\n",
       "<table border=\"1\" class=\"dataframe\">\n",
       "  <thead>\n",
       "    <tr style=\"text-align: right;\">\n",
       "      <th></th>\n",
       "      <th>Job ID</th>\n",
       "      <th>Date</th>\n",
       "      <th>Company Name</th>\n",
       "      <th>Post</th>\n",
       "      <th>Location</th>\n",
       "      <th>Description</th>\n",
       "      <th>Level</th>\n",
       "      <th>Type</th>\n",
       "      <th>Function</th>\n",
       "      <th>Industry</th>\n",
       "    </tr>\n",
       "  </thead>\n",
       "  <tbody>\n",
       "    <tr>\n",
       "      <th>0</th>\n",
       "      <td>1876238010</td>\n",
       "      <td>2020-05-29</td>\n",
       "      <td>Crescendo Global</td>\n",
       "      <td>Modeling Expert-Python &amp; Big Data-Mumbai (Auto...</td>\n",
       "      <td>Mumbai, Maharashtra, India</td>\n",
       "      <td>Modeling job opportunity in Mumbai for a profe...</td>\n",
       "      <td>Mid-Senior level</td>\n",
       "      <td>Full-time</td>\n",
       "      <td>Consulting</td>\n",
       "      <td>Information Technology and Services</td>\n",
       "    </tr>\n",
       "    <tr>\n",
       "      <th>1</th>\n",
       "      <td>1876235026</td>\n",
       "      <td>2020-05-29</td>\n",
       "      <td>Expedia Group</td>\n",
       "      <td>Software Development Engineer- II (Big Data)</td>\n",
       "      <td>Gurgaon, Haryana, India</td>\n",
       "      <td>Job Description  Expedia Group is looking for ...</td>\n",
       "      <td>Entry level</td>\n",
       "      <td>Full-time</td>\n",
       "      <td>Information Technology</td>\n",
       "      <td>Computer SoftwareInformation Technology and Se...</td>\n",
       "    </tr>\n",
       "    <tr>\n",
       "      <th>2</th>\n",
       "      <td>1876226986</td>\n",
       "      <td>2020-05-29</td>\n",
       "      <td>A Reputed e-commerce client of UNISON INTERNAT...</td>\n",
       "      <td>Data Scientist (Gurgaon) CTC 15-30 LPA</td>\n",
       "      <td>Gurgaon, Haryana, India</td>\n",
       "      <td>Job Title: Data Scientist  Reports To: Associa...</td>\n",
       "      <td>Mid-Senior level</td>\n",
       "      <td>Full-time</td>\n",
       "      <td>Analyst</td>\n",
       "      <td>Internet</td>\n",
       "    </tr>\n",
       "    <tr>\n",
       "      <th>3</th>\n",
       "      <td>1876229146</td>\n",
       "      <td>2020-05-29</td>\n",
       "      <td>Career Soft Solutions Pvt. Ltd.</td>\n",
       "      <td>Opening for Data Science Engineer</td>\n",
       "      <td>Chennai, Tamil Nadu, India</td>\n",
       "      <td>Requirement: Data Science Engineer Experience ...</td>\n",
       "      <td>Mid-Senior level</td>\n",
       "      <td>Full-time</td>\n",
       "      <td>Information Technology</td>\n",
       "      <td>Human Resources</td>\n",
       "    </tr>\n",
       "    <tr>\n",
       "      <th>4</th>\n",
       "      <td>1883741571</td>\n",
       "      <td>2020-05-29</td>\n",
       "      <td>CogniTensor Technology Private Limited</td>\n",
       "      <td>Data Science Cyber Security Internship in Delh...</td>\n",
       "      <td>New Delhi, Delhi, India</td>\n",
       "      <td>About CogniTensor Technology Private Limited (...</td>\n",
       "      <td>Internship</td>\n",
       "      <td>Full-time</td>\n",
       "      <td>EngineeringInformation Technology</td>\n",
       "      <td>InternetComputer SoftwareHigher Education</td>\n",
       "    </tr>\n",
       "  </tbody>\n",
       "</table>\n",
       "</div>"
      ],
      "text/plain": [
       "       Job ID        Date                                       Company Name  \\\n",
       "0  1876238010  2020-05-29                                  Crescendo Global    \n",
       "1  1876235026  2020-05-29                                      Expedia Group   \n",
       "2  1876226986  2020-05-29  A Reputed e-commerce client of UNISON INTERNAT...   \n",
       "3  1876229146  2020-05-29                    Career Soft Solutions Pvt. Ltd.   \n",
       "4  1883741571  2020-05-29             CogniTensor Technology Private Limited   \n",
       "\n",
       "                                                Post  \\\n",
       "0  Modeling Expert-Python & Big Data-Mumbai (Auto...   \n",
       "1       Software Development Engineer- II (Big Data)   \n",
       "2             Data Scientist (Gurgaon) CTC 15-30 LPA   \n",
       "3                  Opening for Data Science Engineer   \n",
       "4  Data Science Cyber Security Internship in Delh...   \n",
       "\n",
       "                     Location  \\\n",
       "0  Mumbai, Maharashtra, India   \n",
       "1     Gurgaon, Haryana, India   \n",
       "2     Gurgaon, Haryana, India   \n",
       "3  Chennai, Tamil Nadu, India   \n",
       "4     New Delhi, Delhi, India   \n",
       "\n",
       "                                         Description             Level  \\\n",
       "0  Modeling job opportunity in Mumbai for a profe...  Mid-Senior level   \n",
       "1  Job Description  Expedia Group is looking for ...       Entry level   \n",
       "2  Job Title: Data Scientist  Reports To: Associa...  Mid-Senior level   \n",
       "3  Requirement: Data Science Engineer Experience ...  Mid-Senior level   \n",
       "4  About CogniTensor Technology Private Limited (...        Internship   \n",
       "\n",
       "        Type                           Function  \\\n",
       "0  Full-time                         Consulting   \n",
       "1  Full-time             Information Technology   \n",
       "2  Full-time                            Analyst   \n",
       "3  Full-time             Information Technology   \n",
       "4  Full-time  EngineeringInformation Technology   \n",
       "\n",
       "                                            Industry  \n",
       "0                Information Technology and Services  \n",
       "1  Computer SoftwareInformation Technology and Se...  \n",
       "2                                           Internet  \n",
       "3                                    Human Resources  \n",
       "4          InternetComputer SoftwareHigher Education  "
      ]
     },
     "execution_count": 8,
     "metadata": {},
     "output_type": "execute_result"
    }
   ],
   "source": [
    "# creating a dataframe\n",
    "job_data = pd.DataFrame({'Job ID': job_id,\n",
    "'Date': post_date,\n",
    "'Company Name': company_name,\n",
    "'Post': post_title,\n",
    "'Location': job_location,\n",
    "'Description': job_desc,\n",
    "'Level': level,\n",
    "'Type': emp_type,\n",
    "'Function': functions,\n",
    "'Industry': industries\n",
    "})\n",
    "\n",
    "# cleaning description column\n",
    "job_data['Description'] = job_data['Description'].str.replace('\\n',' ')\n",
    "\n",
    "print(job_data.info())\n",
    "job_data.head()"
   ]
  },
  {
   "cell_type": "code",
   "execution_count": 38,
   "metadata": {},
   "outputs": [
    {
     "data": {
      "text/plain": [
       "<ul class=\"jobs-search__results-list\"><li class=\"result-card job-result-card result-card--with-hover-state job-card__contents--active\" data-column=\"1\" data-entity-urn=\"urn:li:jobPosting:1881362118\" data-id=\"1881362118\" data-row=\"1\" data-search-id=\"344fb53c-1ccf-4804-a9cb-2d1392ea29b2\" data-tracking-id=\"SNkWB5tGSUuTrMiOl6gZ7w==\"><a class=\"result-card__full-card-link\" data-tracking-control-name=\"public_jobs_job-result-card_result-card_full-click\" data-tracking-will-navigate=\"\" href=\"https://in.linkedin.com/jobs/view/viaprom-technologies-senior-data-scientist-machine-learning-data-visualization-8-10-yrs-mumbai-at-viaprom-technologies-pvt-ltd-1881362118?refId=344fb53c-1ccf-4804-a9cb-2d1392ea29b2&amp;position=1&amp;pageNum=0&amp;trk=public_jobs_job-result-card_result-card_full-click\"><span class=\"screen-reader-text\">Viaprom Technologies - Senior Data Scientist - Machine Learning/Data Visualization (8-10 yrs) Mumbai</span></a><img alt=\"Viaprom Technologies Pvt Ltd\" aria-hidden=\"true\" class=\"artdeco-entity-image job-result-card artdeco-entity-image--company job-result-card--company artdeco-entity-image--square-4 job-result-card--square-4 artdeco-entity-image--ghost job-result-card--ghost artdeco-entity-image--ghost-company job-result-card--ghost-company result-card__image lazy-loaded\" data-ghost-classes=\"artdeco-entity-image--ghost job-result-card--ghost artdeco-entity-image--ghost-company job-result-card--ghost-company\" data-ghost-url=\"https://static-exp1.licdn.com/sc/p/com.linkedin.jobs-guest-frontend%3Ajobs-guest-frontend-static-content%2B0.0.2595/f/%2Fjobs-guest-frontend%2Fartdeco%2Fstatic%2Fimages%2Fghost-images%2Fcompany.svg\" src=\"https://static-exp1.licdn.com/sc/p/com.linkedin.jobs-guest-frontend%3Ajobs-guest-frontend-static-content%2B0.0.2595/f/%2Fjobs-guest-frontend%2Fartdeco%2Fstatic%2Fimages%2Fghost-images%2Fcompany.svg\"/><div class=\"result-card__contents job-result-card__contents\"><h3 class=\"result-card__title job-result-card__title\">Viaprom Technologies - Senior Data Scientist - Machine Learning/Data Visualization (8-10 yrs) Mumbai</h3><h4 class=\"result-card__subtitle job-result-card__subtitle\">Viaprom Technologies Pvt Ltd</h4><div class=\"result-card__meta job-result-card__meta\"><span class=\"job-result-card__location\">Mumbai, Maharashtra, India</span><time class=\"job-result-card__listdate--new\" datetime=\"2020-05-28\">2 hours ago</time></div></div><div class=\"job-result-card__right-corner\"></div></li><li class=\"result-card job-result-card result-card--with-hover-state\" data-column=\"1\" data-entity-urn=\"urn:li:jobPosting:1881361181\" data-id=\"1881361181\" data-row=\"2\" data-search-id=\"344fb53c-1ccf-4804-a9cb-2d1392ea29b2\" data-tracking-id=\"TTeiYMZ2QxCC6HMHs3eFLA==\"><a class=\"result-card__full-card-link\" data-tracking-control-name=\"public_jobs_job-result-card_result-card_full-click\" data-tracking-will-navigate=\"\" href=\"https://in.linkedin.com/jobs/view/data-engineer-sql-big-data-1-4-yrs-jaipur-at-marktine-1881361181?refId=344fb53c-1ccf-4804-a9cb-2d1392ea29b2&amp;position=2&amp;pageNum=0&amp;trk=public_jobs_job-result-card_result-card_full-click\"><span class=\"screen-reader-text\">Data Engineer - SQL/Big Data (1-4 yrs) Jaipur</span></a><img alt=\"Marktine\" aria-hidden=\"true\" class=\"artdeco-entity-image job-result-card artdeco-entity-image--company job-result-card--company artdeco-entity-image--square-4 job-result-card--square-4 artdeco-entity-image--ghost job-result-card--ghost artdeco-entity-image--ghost-company job-result-card--ghost-company result-card__image lazy-loaded\" data-ghost-classes=\"artdeco-entity-image--ghost job-result-card--ghost artdeco-entity-image--ghost-company job-result-card--ghost-company\" data-ghost-url=\"https://static-exp1.licdn.com/sc/p/com.linkedin.jobs-guest-frontend%3Ajobs-guest-frontend-static-content%2B0.0.2595/f/%2Fjobs-guest-frontend%2Fartdeco%2Fstatic%2Fimages%2Fghost-images%2Fcompany.svg\" src=\"https://static-exp1.licdn.com/sc/p/com.linkedin.jobs-guest-frontend%3Ajobs-guest-frontend-static-content%2B0.0.2595/f/%2Fjobs-guest-frontend%2Fartdeco%2Fstatic%2Fimages%2Fghost-images%2Fcompany.svg\"/><div class=\"result-card__contents job-result-card__contents\"><h3 class=\"result-card__title job-result-card__title\">Data Engineer - SQL/Big Data (1-4 yrs) Jaipur</h3><h4 class=\"result-card__subtitle job-result-card__subtitle\">Marktine</h4><div class=\"result-card__meta job-result-card__meta\"><span class=\"job-result-card__location\">Jaipur, Rajasthan, India</span><time class=\"job-result-card__listdate--new\" datetime=\"2020-05-28\">2 hours ago</time></div></div><div class=\"job-result-card__right-corner\"></div></li><li class=\"result-card job-result-card result-card--with-hover-state\" data-column=\"1\" data-entity-urn=\"urn:li:jobPosting:1881355994\" data-id=\"1881355994\" data-row=\"3\" data-search-id=\"344fb53c-1ccf-4804-a9cb-2d1392ea29b2\" data-tracking-id=\"Y/Ieo269SF+kD+Vf7h1vsQ==\"><a class=\"result-card__full-card-link\" data-tracking-control-name=\"public_jobs_job-result-card_result-card_full-click\" data-tracking-will-navigate=\"\" href=\"https://in.linkedin.com/jobs/view/hadoop-developer-big-data-spark-2-4-yrs-jaipur-at-marktine-1881355994?refId=344fb53c-1ccf-4804-a9cb-2d1392ea29b2&amp;position=3&amp;pageNum=0&amp;trk=public_jobs_job-result-card_result-card_full-click\"><span class=\"screen-reader-text\">Hadoop Developer - Big Data/Spark (2-4 yrs) Jaipur</span></a><img alt=\"Marktine\" aria-hidden=\"true\" class=\"artdeco-entity-image job-result-card artdeco-entity-image--company job-result-card--company artdeco-entity-image--square-4 job-result-card--square-4 artdeco-entity-image--ghost job-result-card--ghost artdeco-entity-image--ghost-company job-result-card--ghost-company result-card__image lazy-loaded\" data-ghost-classes=\"artdeco-entity-image--ghost job-result-card--ghost artdeco-entity-image--ghost-company job-result-card--ghost-company\" data-ghost-url=\"https://static-exp1.licdn.com/sc/p/com.linkedin.jobs-guest-frontend%3Ajobs-guest-frontend-static-content%2B0.0.2595/f/%2Fjobs-guest-frontend%2Fartdeco%2Fstatic%2Fimages%2Fghost-images%2Fcompany.svg\" src=\"https://static-exp1.licdn.com/sc/p/com.linkedin.jobs-guest-frontend%3Ajobs-guest-frontend-static-content%2B0.0.2595/f/%2Fjobs-guest-frontend%2Fartdeco%2Fstatic%2Fimages%2Fghost-images%2Fcompany.svg\"/><div class=\"result-card__contents job-result-card__contents\"><h3 class=\"result-card__title job-result-card__title\">Hadoop Developer - Big Data/Spark (2-4 yrs) Jaipur</h3><h4 class=\"result-card__subtitle job-result-card__subtitle\">Marktine</h4><div class=\"result-card__meta job-result-card__meta\"><span class=\"job-result-card__location\">Jaipur, Rajasthan, India</span><time class=\"job-result-card__listdate--new\" datetime=\"2020-05-28\">2 hours ago</time></div></div><div class=\"job-result-card__right-corner\"></div></li><li class=\"result-card job-result-card result-card--with-hover-state\" data-column=\"1\" data-entity-urn=\"urn:li:jobPosting:1881356976\" data-id=\"1881356976\" data-row=\"4\" data-search-id=\"344fb53c-1ccf-4804-a9cb-2d1392ea29b2\" data-tracking-id=\"CCp/A0eOQKK/H+5CTA36CA==\"><a class=\"result-card__full-card-link\" data-tracking-control-name=\"public_jobs_job-result-card_result-card_full-click\" data-tracking-will-navigate=\"\" href=\"https://in.linkedin.com/jobs/view/data-warehousing-developer-big-data-etl-3-6-yrs-jaipur-at-marktine-1881356976?refId=344fb53c-1ccf-4804-a9cb-2d1392ea29b2&amp;position=4&amp;pageNum=0&amp;trk=public_jobs_job-result-card_result-card_full-click\"><span class=\"screen-reader-text\">Data Warehousing Developer - Big Data/ETL (3-6 yrs) Jaipur</span></a><img alt=\"Marktine\" aria-hidden=\"true\" class=\"artdeco-entity-image job-result-card artdeco-entity-image--company job-result-card--company artdeco-entity-image--square-4 job-result-card--square-4 artdeco-entity-image--ghost job-result-card--ghost artdeco-entity-image--ghost-company job-result-card--ghost-company result-card__image lazy-loaded\" data-ghost-classes=\"artdeco-entity-image--ghost job-result-card--ghost artdeco-entity-image--ghost-company job-result-card--ghost-company\" data-ghost-url=\"https://static-exp1.licdn.com/sc/p/com.linkedin.jobs-guest-frontend%3Ajobs-guest-frontend-static-content%2B0.0.2595/f/%2Fjobs-guest-frontend%2Fartdeco%2Fstatic%2Fimages%2Fghost-images%2Fcompany.svg\" src=\"https://static-exp1.licdn.com/sc/p/com.linkedin.jobs-guest-frontend%3Ajobs-guest-frontend-static-content%2B0.0.2595/f/%2Fjobs-guest-frontend%2Fartdeco%2Fstatic%2Fimages%2Fghost-images%2Fcompany.svg\"/><div class=\"result-card__contents job-result-card__contents\"><h3 class=\"result-card__title job-result-card__title\">Data Warehousing Developer - Big Data/ETL (3-6 yrs) Jaipur</h3><h4 class=\"result-card__subtitle job-result-card__subtitle\">Marktine</h4><div class=\"result-card__meta job-result-card__meta\"><span class=\"job-result-card__location\">Jaipur, Rajasthan, India</span><time class=\"job-result-card__listdate--new\" datetime=\"2020-05-28\">2 hours ago</time></div></div><div class=\"job-result-card__right-corner\"></div></li><li class=\"result-card job-result-card result-card--with-hover-state\" data-column=\"1\" data-entity-urn=\"urn:li:jobPosting:1881361166\" data-id=\"1881361166\" data-row=\"5\" data-search-id=\"344fb53c-1ccf-4804-a9cb-2d1392ea29b2\" data-tracking-id=\"Wm/8S0YAQoG67SIOZ69IZA==\"><a class=\"result-card__full-card-link\" data-tracking-control-name=\"public_jobs_job-result-card_result-card_full-click\" data-tracking-will-navigate=\"\" href=\"https://in.linkedin.com/jobs/view/valiance-solutions-spark-developer-big-data-hadoop-2-4-yrs-gurgaon-gurugram-noida-at-valiance-solutions-1881361166?refId=344fb53c-1ccf-4804-a9cb-2d1392ea29b2&amp;position=5&amp;pageNum=0&amp;trk=public_jobs_job-result-card_result-card_full-click\"><span class=\"screen-reader-text\">Valiance Solutions - Spark Developer - Big Data/Hadoop (2-4 yrs) Gurgaon/Gurugram/Noida</span></a><img alt=\"Valiance Solutions\" aria-hidden=\"true\" class=\"artdeco-entity-image job-result-card artdeco-entity-image--company job-result-card--company artdeco-entity-image--square-4 job-result-card--square-4 result-card__image lazy-load\" data-delayed-url=\"https://media-exp1.licdn.com/dms/image/C510BAQFI661tims84w/company-logo_100_100/0?e=1598486400&amp;v=beta&amp;t=2PhUeKyP_udN4MDBFHK4MGAqEkSTh5wlCmIAFzAM7pw\" data-ghost-classes=\"artdeco-entity-image--ghost job-result-card--ghost artdeco-entity-image--ghost-company job-result-card--ghost-company\" data-ghost-url=\"https://static-exp1.licdn.com/sc/p/com.linkedin.jobs-guest-frontend%3Ajobs-guest-frontend-static-content%2B0.0.2595/f/%2Fjobs-guest-frontend%2Fartdeco%2Fstatic%2Fimages%2Fghost-images%2Fcompany.svg\"/><div class=\"result-card__contents job-result-card__contents\"><h3 class=\"result-card__title job-result-card__title\">Valiance Solutions - Spark Developer - Big Data/Hadoop (2-4 yrs) Gurgaon/Gurugram/Noida</h3><h4 class=\"result-card__subtitle job-result-card__subtitle\"><a class=\"result-card__subtitle-link job-result-card__subtitle-link\" data-tracking-control-name=\"public_jobs_job-result-card_result-card_subtitle-click\" data-tracking-will-navigate=\"\" href=\"https://in.linkedin.com/company/valiance-solutions?trk=public_jobs_job-result-card_result-card_subtitle-click\">Valiance Solutions</a></h4><div class=\"result-card__meta job-result-card__meta\"><span class=\"job-result-card__location\">Gurgaon, Haryana, India</span><time class=\"job-result-card__listdate--new\" datetime=\"2020-05-28\">2 hours ago</time></div></div><div class=\"job-result-card__right-corner\"></div></li><li class=\"result-card job-result-card result-card--with-hover-state\" data-column=\"1\" data-entity-urn=\"urn:li:jobPosting:1881359484\" data-id=\"1881359484\" data-row=\"6\" data-search-id=\"344fb53c-1ccf-4804-a9cb-2d1392ea29b2\" data-tracking-id=\"+wWuta70RjiA7z6iQ5K+ow==\"><a class=\"result-card__full-card-link\" data-tracking-control-name=\"public_jobs_job-result-card_result-card_full-click\" data-tracking-will-navigate=\"\" href=\"https://in.linkedin.com/jobs/view/big-data-dwh-developer-sql-server-postgresql-3-6-yrs-jaipur-at-marktine-1881359484?refId=344fb53c-1ccf-4804-a9cb-2d1392ea29b2&amp;position=6&amp;pageNum=0&amp;trk=public_jobs_job-result-card_result-card_full-click\"><span class=\"screen-reader-text\">Big Data/DWH Developer - SQL Server/PostgreSQL (3-6 yrs) Jaipur</span></a><img alt=\"Marktine\" aria-hidden=\"true\" class=\"artdeco-entity-image job-result-card artdeco-entity-image--company job-result-card--company artdeco-entity-image--square-4 job-result-card--square-4 artdeco-entity-image--ghost job-result-card--ghost artdeco-entity-image--ghost-company job-result-card--ghost-company result-card__image lazy-load\" data-delayed-url=\"https://static-exp1.licdn.com/sc/p/com.linkedin.jobs-guest-frontend%3Ajobs-guest-frontend-static-content%2B0.0.2595/f/%2Fjobs-guest-frontend%2Fartdeco%2Fstatic%2Fimages%2Fghost-images%2Fcompany.svg\" data-ghost-classes=\"artdeco-entity-image--ghost job-result-card--ghost artdeco-entity-image--ghost-company job-result-card--ghost-company\" data-ghost-url=\"https://static-exp1.licdn.com/sc/p/com.linkedin.jobs-guest-frontend%3Ajobs-guest-frontend-static-content%2B0.0.2595/f/%2Fjobs-guest-frontend%2Fartdeco%2Fstatic%2Fimages%2Fghost-images%2Fcompany.svg\"/><div class=\"result-card__contents job-result-card__contents\"><h3 class=\"result-card__title job-result-card__title\">Big Data/DWH Developer - SQL Server/PostgreSQL (3-6 yrs) Jaipur</h3><h4 class=\"result-card__subtitle job-result-card__subtitle\">Marktine</h4><div class=\"result-card__meta job-result-card__meta\"><span class=\"job-result-card__location\">Jaipur, Rajasthan, India</span><time class=\"job-result-card__listdate--new\" datetime=\"2020-05-28\">2 hours ago</time></div></div><div class=\"job-result-card__right-corner\"></div></li><li class=\"result-card job-result-card result-card--with-hover-state\" data-column=\"1\" data-entity-urn=\"urn:li:jobPosting:1881358678\" data-id=\"1881358678\" data-row=\"7\" data-search-id=\"344fb53c-1ccf-4804-a9cb-2d1392ea29b2\" data-tracking-id=\"xpKq8FYSRIO6nG2XwmW4Zw==\"><a class=\"result-card__full-card-link\" data-tracking-control-name=\"public_jobs_job-result-card_result-card_full-click\" data-tracking-will-navigate=\"\" href=\"https://in.linkedin.com/jobs/view/authbridge-research-services-senior-data-scientist-machine-learning-deep-learning-5-8-yrs-gurgaon-gurugram-at-authbridge-research-services-pvt-ltd-1881358678?refId=344fb53c-1ccf-4804-a9cb-2d1392ea29b2&amp;position=7&amp;pageNum=0&amp;trk=public_jobs_job-result-card_result-card_full-click\"><span class=\"screen-reader-text\">Authbridge Research Services - Senior Data Scientist - Machine Learning/Deep Learning (5-8 yrs) Gurgaon/Gurugram</span></a><img alt=\"Authbridge Research Services Pvt Ltd\" aria-hidden=\"true\" class=\"artdeco-entity-image job-result-card artdeco-entity-image--company job-result-card--company artdeco-entity-image--square-4 job-result-card--square-4 artdeco-entity-image--ghost job-result-card--ghost artdeco-entity-image--ghost-company job-result-card--ghost-company result-card__image lazy-load\" data-delayed-url=\"https://static-exp1.licdn.com/sc/p/com.linkedin.jobs-guest-frontend%3Ajobs-guest-frontend-static-content%2B0.0.2595/f/%2Fjobs-guest-frontend%2Fartdeco%2Fstatic%2Fimages%2Fghost-images%2Fcompany.svg\" data-ghost-classes=\"artdeco-entity-image--ghost job-result-card--ghost artdeco-entity-image--ghost-company job-result-card--ghost-company\" data-ghost-url=\"https://static-exp1.licdn.com/sc/p/com.linkedin.jobs-guest-frontend%3Ajobs-guest-frontend-static-content%2B0.0.2595/f/%2Fjobs-guest-frontend%2Fartdeco%2Fstatic%2Fimages%2Fghost-images%2Fcompany.svg\"/><div class=\"result-card__contents job-result-card__contents\"><h3 class=\"result-card__title job-result-card__title\">Authbridge Research Services - Senior Data Scientist - Machine Learning/Deep Learning (5-8 yrs) Gurgaon/Gurugram</h3><h4 class=\"result-card__subtitle job-result-card__subtitle\">Authbridge Research Services Pvt Ltd</h4><div class=\"result-card__meta job-result-card__meta\"><span class=\"job-result-card__location\">Gurgaon, Haryana, India</span><time class=\"job-result-card__listdate--new\" datetime=\"2020-05-28\">2 hours ago</time></div></div><div class=\"job-result-card__right-corner\"></div></li><li class=\"result-card job-result-card result-card--with-hover-state\" data-column=\"1\" data-entity-urn=\"urn:li:jobPosting:1881359483\" data-id=\"1881359483\" data-row=\"8\" data-search-id=\"344fb53c-1ccf-4804-a9cb-2d1392ea29b2\" data-tracking-id=\"ot2gTWX8QnOT3pD6gkgiHQ==\"><a class=\"result-card__full-card-link\" data-tracking-control-name=\"public_jobs_job-result-card_result-card_full-click\" data-tracking-will-navigate=\"\" href=\"https://in.linkedin.com/jobs/view/valiance-solutions-big-data-developer-hadoop-spark-python-2-5-yrs-noida-at-valiance-solutions-1881359483?refId=344fb53c-1ccf-4804-a9cb-2d1392ea29b2&amp;position=8&amp;pageNum=0&amp;trk=public_jobs_job-result-card_result-card_full-click\"><span class=\"screen-reader-text\">Valiance Solutions - Big Data Developer - Hadoop/Spark/Python (2-5 yrs) Noida</span></a><img alt=\"Valiance Solutions\" aria-hidden=\"true\" class=\"artdeco-entity-image job-result-card artdeco-entity-image--company job-result-card--company artdeco-entity-image--square-4 job-result-card--square-4 result-card__image lazy-load\" data-delayed-url=\"https://media-exp1.licdn.com/dms/image/C510BAQFI661tims84w/company-logo_100_100/0?e=1598486400&amp;v=beta&amp;t=2PhUeKyP_udN4MDBFHK4MGAqEkSTh5wlCmIAFzAM7pw\" data-ghost-classes=\"artdeco-entity-image--ghost job-result-card--ghost artdeco-entity-image--ghost-company job-result-card--ghost-company\" data-ghost-url=\"https://static-exp1.licdn.com/sc/p/com.linkedin.jobs-guest-frontend%3Ajobs-guest-frontend-static-content%2B0.0.2595/f/%2Fjobs-guest-frontend%2Fartdeco%2Fstatic%2Fimages%2Fghost-images%2Fcompany.svg\"/><div class=\"result-card__contents job-result-card__contents\"><h3 class=\"result-card__title job-result-card__title\">Valiance Solutions - Big Data Developer - Hadoop/Spark/Python (2-5 yrs) Noida</h3><h4 class=\"result-card__subtitle job-result-card__subtitle\"><a class=\"result-card__subtitle-link job-result-card__subtitle-link\" data-tracking-control-name=\"public_jobs_job-result-card_result-card_subtitle-click\" data-tracking-will-navigate=\"\" href=\"https://in.linkedin.com/company/valiance-solutions?trk=public_jobs_job-result-card_result-card_subtitle-click\">Valiance Solutions</a></h4><div class=\"result-card__meta job-result-card__meta\"><span class=\"job-result-card__location\">New Delhi, Delhi, India</span><time class=\"job-result-card__listdate--new\" datetime=\"2020-05-28\">2 hours ago</time></div></div><div class=\"job-result-card__right-corner\"></div></li><li class=\"result-card job-result-card result-card--with-hover-state\" data-column=\"1\" data-entity-urn=\"urn:li:jobPosting:1862220050\" data-id=\"1862220050\" data-row=\"9\" data-search-id=\"344fb53c-1ccf-4804-a9cb-2d1392ea29b2\" data-tracking-id=\"BBzZKrm4TBKsNrPBWau9Ag==\"><a class=\"result-card__full-card-link\" data-tracking-control-name=\"public_jobs_job-result-card_result-card_full-click\" data-tracking-will-navigate=\"\" href=\"https://in.linkedin.com/jobs/view/associate-ii-software-engineer-datascience-at-ihs-markit-1862220050?refId=344fb53c-1ccf-4804-a9cb-2d1392ea29b2&amp;position=9&amp;pageNum=0&amp;trk=public_jobs_job-result-card_result-card_full-click\"><span class=\"screen-reader-text\">Associate II Software Engineer - Datascience</span></a><img alt=\"IHS Markit\" aria-hidden=\"true\" class=\"artdeco-entity-image job-result-card artdeco-entity-image--company job-result-card--company artdeco-entity-image--square-4 job-result-card--square-4 result-card__image lazy-load\" data-delayed-url=\"https://media-exp1.licdn.com/dms/image/C4E0BAQEORgMkXYPRbg/company-logo_100_100/0?e=1598486400&amp;v=beta&amp;t=IcXTwaYhMItJEBqMrSO3GHfyP4kU9pzXE1yBFllJw7A\" data-ghost-classes=\"artdeco-entity-image--ghost job-result-card--ghost artdeco-entity-image--ghost-company job-result-card--ghost-company\" data-ghost-url=\"https://static-exp1.licdn.com/sc/p/com.linkedin.jobs-guest-frontend%3Ajobs-guest-frontend-static-content%2B0.0.2595/f/%2Fjobs-guest-frontend%2Fartdeco%2Fstatic%2Fimages%2Fghost-images%2Fcompany.svg\"/><div class=\"result-card__contents job-result-card__contents\"><h3 class=\"result-card__title job-result-card__title\">Associate II Software Engineer - Datascience</h3><h4 class=\"result-card__subtitle job-result-card__subtitle\"><a class=\"result-card__subtitle-link job-result-card__subtitle-link\" data-tracking-control-name=\"public_jobs_job-result-card_result-card_subtitle-click\" data-tracking-will-navigate=\"\" href=\"https://uk.linkedin.com/company/ihsmarkit?trk=public_jobs_job-result-card_result-card_subtitle-click\">IHS Markit</a></h4><div class=\"result-card__meta job-result-card__meta\"><span class=\"job-result-card__location\">Gurgaon, Haryana, India</span><time class=\"job-result-card__listdate--new\" datetime=\"2020-05-27\">6 hours ago</time></div></div><div class=\"job-result-card__right-corner\"></div></li><li class=\"result-card job-result-card result-card--with-hover-state\" data-column=\"1\" data-entity-urn=\"urn:li:jobPosting:1862216394\" data-id=\"1862216394\" data-row=\"10\" data-search-id=\"344fb53c-1ccf-4804-a9cb-2d1392ea29b2\" data-tracking-id=\"ds+YAhq+SCafCMWOXLoroQ==\"><a class=\"result-card__full-card-link\" data-tracking-control-name=\"public_jobs_job-result-card_result-card_full-click\" data-tracking-will-navigate=\"\" href=\"https://in.linkedin.com/jobs/view/full-stack-data-scientist-at-ihs-markit-1862216394?refId=344fb53c-1ccf-4804-a9cb-2d1392ea29b2&amp;position=10&amp;pageNum=0&amp;trk=public_jobs_job-result-card_result-card_full-click\"><span class=\"screen-reader-text\">Full Stack Data Scientist</span></a><img alt=\"IHS Markit\" aria-hidden=\"true\" class=\"artdeco-entity-image job-result-card artdeco-entity-image--company job-result-card--company artdeco-entity-image--square-4 job-result-card--square-4 result-card__image lazy-load\" data-delayed-url=\"https://media-exp1.licdn.com/dms/image/C4E0BAQEORgMkXYPRbg/company-logo_100_100/0?e=1598486400&amp;v=beta&amp;t=IcXTwaYhMItJEBqMrSO3GHfyP4kU9pzXE1yBFllJw7A\" data-ghost-classes=\"artdeco-entity-image--ghost job-result-card--ghost artdeco-entity-image--ghost-company job-result-card--ghost-company\" data-ghost-url=\"https://static-exp1.licdn.com/sc/p/com.linkedin.jobs-guest-frontend%3Ajobs-guest-frontend-static-content%2B0.0.2595/f/%2Fjobs-guest-frontend%2Fartdeco%2Fstatic%2Fimages%2Fghost-images%2Fcompany.svg\"/><div class=\"result-card__contents job-result-card__contents\"><h3 class=\"result-card__title job-result-card__title\">Full Stack Data Scientist</h3><h4 class=\"result-card__subtitle job-result-card__subtitle\"><a class=\"result-card__subtitle-link job-result-card__subtitle-link\" data-tracking-control-name=\"public_jobs_job-result-card_result-card_subtitle-click\" data-tracking-will-navigate=\"\" href=\"https://uk.linkedin.com/company/ihsmarkit?trk=public_jobs_job-result-card_result-card_subtitle-click\">IHS Markit</a></h4><div class=\"result-card__meta job-result-card__meta\"><span class=\"job-result-card__location\">Bengaluru, Karnataka, India</span><time class=\"job-result-card__listdate--new\" datetime=\"2020-05-27\">6 hours ago</time></div></div><div class=\"job-result-card__right-corner\"></div></li><li class=\"result-card job-result-card result-card--with-hover-state\" data-column=\"1\" data-entity-urn=\"urn:li:jobPosting:1862218396\" data-id=\"1862218396\" data-row=\"11\" data-search-id=\"344fb53c-1ccf-4804-a9cb-2d1392ea29b2\" data-tracking-id=\"1IRQvB0oQTmNalBlbMadAA==\"><a class=\"result-card__full-card-link\" data-tracking-control-name=\"public_jobs_job-result-card_result-card_full-click\" data-tracking-will-navigate=\"\" href=\"https://in.linkedin.com/jobs/view/data-scientist-at-ihs-markit-1862218396?refId=344fb53c-1ccf-4804-a9cb-2d1392ea29b2&amp;position=11&amp;pageNum=0&amp;trk=public_jobs_job-result-card_result-card_full-click\"><span class=\"screen-reader-text\">Data Scientist</span></a><img alt=\"IHS Markit\" aria-hidden=\"true\" class=\"artdeco-entity-image job-result-card artdeco-entity-image--company job-result-card--company artdeco-entity-image--square-4 job-result-card--square-4 result-card__image lazy-load\" data-delayed-url=\"https://media-exp1.licdn.com/dms/image/C4E0BAQEORgMkXYPRbg/company-logo_100_100/0?e=1598486400&amp;v=beta&amp;t=IcXTwaYhMItJEBqMrSO3GHfyP4kU9pzXE1yBFllJw7A\" data-ghost-classes=\"artdeco-entity-image--ghost job-result-card--ghost artdeco-entity-image--ghost-company job-result-card--ghost-company\" data-ghost-url=\"https://static-exp1.licdn.com/sc/p/com.linkedin.jobs-guest-frontend%3Ajobs-guest-frontend-static-content%2B0.0.2595/f/%2Fjobs-guest-frontend%2Fartdeco%2Fstatic%2Fimages%2Fghost-images%2Fcompany.svg\"/><div class=\"result-card__contents job-result-card__contents\"><h3 class=\"result-card__title job-result-card__title\">Data Scientist</h3><h4 class=\"result-card__subtitle job-result-card__subtitle\"><a class=\"result-card__subtitle-link job-result-card__subtitle-link\" data-tracking-control-name=\"public_jobs_job-result-card_result-card_subtitle-click\" data-tracking-will-navigate=\"\" href=\"https://uk.linkedin.com/company/ihsmarkit?trk=public_jobs_job-result-card_result-card_subtitle-click\">IHS Markit</a></h4><div class=\"result-card__meta job-result-card__meta\"><span class=\"job-result-card__location\">Gurgaon, Haryana, India</span><time class=\"job-result-card__listdate--new\" datetime=\"2020-05-27\">6 hours ago</time></div></div><div class=\"job-result-card__right-corner\"></div></li><li class=\"result-card job-result-card result-card--with-hover-state\" data-column=\"1\" data-entity-urn=\"urn:li:jobPosting:1875820594\" data-id=\"1875820594\" data-row=\"12\" data-search-id=\"344fb53c-1ccf-4804-a9cb-2d1392ea29b2\" data-tracking-id=\"nkawwjJMQqCPX1sRWDejRg==\"><a class=\"result-card__full-card-link\" data-tracking-control-name=\"public_jobs_job-result-card_result-card_full-click\" data-tracking-will-navigate=\"\" href=\"https://in.linkedin.com/jobs/view/data-analyst-at-hike-1875820594?refId=344fb53c-1ccf-4804-a9cb-2d1392ea29b2&amp;position=12&amp;pageNum=0&amp;trk=public_jobs_job-result-card_result-card_full-click\"><span class=\"screen-reader-text\">Data Analyst</span></a><img alt=\"Hike\" aria-hidden=\"true\" class=\"artdeco-entity-image job-result-card artdeco-entity-image--company job-result-card--company artdeco-entity-image--square-4 job-result-card--square-4 result-card__image lazy-load\" data-delayed-url=\"https://media-exp1.licdn.com/dms/image/C510BAQFiIAY98dXyeg/company-logo_100_100/0?e=1598486400&amp;v=beta&amp;t=C4EThdbIuVaeaD2QgO1d7IKxpR4kmJNBdtxzSw5B0RU\" data-ghost-classes=\"artdeco-entity-image--ghost job-result-card--ghost artdeco-entity-image--ghost-company job-result-card--ghost-company\" data-ghost-url=\"https://static-exp1.licdn.com/sc/p/com.linkedin.jobs-guest-frontend%3Ajobs-guest-frontend-static-content%2B0.0.2595/f/%2Fjobs-guest-frontend%2Fartdeco%2Fstatic%2Fimages%2Fghost-images%2Fcompany.svg\"/><div class=\"result-card__contents job-result-card__contents\"><h3 class=\"result-card__title job-result-card__title\">Data Analyst</h3><h4 class=\"result-card__subtitle job-result-card__subtitle\"><a class=\"result-card__subtitle-link job-result-card__subtitle-link\" data-tracking-control-name=\"public_jobs_job-result-card_result-card_subtitle-click\" data-tracking-will-navigate=\"\" href=\"https://in.linkedin.com/company/hike?trk=public_jobs_job-result-card_result-card_subtitle-click\">Hike</a></h4><div class=\"result-card__meta job-result-card__meta\"><span class=\"job-result-card__location\">New Delhi, Delhi, India</span><time class=\"job-result-card__listdate--new\" datetime=\"2020-05-27\">6 hours ago</time></div></div><div class=\"job-result-card__right-corner\"></div></li><li class=\"result-card job-result-card result-card--with-hover-state\" data-column=\"1\" data-entity-urn=\"urn:li:jobPosting:1875825641\" data-id=\"1875825641\" data-row=\"13\" data-search-id=\"344fb53c-1ccf-4804-a9cb-2d1392ea29b2\" data-tracking-id=\"AHnOsLmwTiK1AOhVvmnZpQ==\"><a class=\"result-card__full-card-link\" data-tracking-control-name=\"public_jobs_job-result-card_result-card_full-click\" data-tracking-will-navigate=\"\" href=\"https://in.linkedin.com/jobs/view/big-data-associate-technical-architect-at-tavant-1875825641?refId=344fb53c-1ccf-4804-a9cb-2d1392ea29b2&amp;position=13&amp;pageNum=0&amp;trk=public_jobs_job-result-card_result-card_full-click\"><span class=\"screen-reader-text\">Big Data - Associate Technical Architect</span></a><img alt=\"Tavant\" aria-hidden=\"true\" class=\"artdeco-entity-image job-result-card artdeco-entity-image--company job-result-card--company artdeco-entity-image--square-4 job-result-card--square-4 result-card__image lazy-load\" data-delayed-url=\"https://media-exp1.licdn.com/dms/image/C4D0BAQEwAkjXV-xGAw/company-logo_100_100/0?e=1598486400&amp;v=beta&amp;t=Flrc_AJqhvE4z03zUrja1I6lk8t6OjyRXS-tUL_haAM\" data-ghost-classes=\"artdeco-entity-image--ghost job-result-card--ghost artdeco-entity-image--ghost-company job-result-card--ghost-company\" data-ghost-url=\"https://static-exp1.licdn.com/sc/p/com.linkedin.jobs-guest-frontend%3Ajobs-guest-frontend-static-content%2B0.0.2595/f/%2Fjobs-guest-frontend%2Fartdeco%2Fstatic%2Fimages%2Fghost-images%2Fcompany.svg\"/><div class=\"result-card__contents job-result-card__contents\"><h3 class=\"result-card__title job-result-card__title\">Big Data - Associate Technical Architect</h3><h4 class=\"result-card__subtitle job-result-card__subtitle\"><a class=\"result-card__subtitle-link job-result-card__subtitle-link\" data-tracking-control-name=\"public_jobs_job-result-card_result-card_subtitle-click\" data-tracking-will-navigate=\"\" href=\"https://www.linkedin.com/company/tavant?trk=public_jobs_job-result-card_result-card_subtitle-click\">Tavant</a></h4><div class=\"result-card__meta job-result-card__meta\"><span class=\"job-result-card__location\">Hyderabad, Telangana, India</span><time class=\"job-result-card__listdate--new\" datetime=\"2020-05-27\">7 hours ago</time></div></div><div class=\"job-result-card__right-corner\"></div></li><li class=\"result-card job-result-card result-card--with-hover-state\" data-column=\"1\" data-entity-urn=\"urn:li:jobPosting:1881085257\" data-id=\"1881085257\" data-row=\"14\" data-search-id=\"344fb53c-1ccf-4804-a9cb-2d1392ea29b2\" data-tracking-id=\"aDdVrs9iSnmHBEzaW9n47w==\"><a class=\"result-card__full-card-link\" data-tracking-control-name=\"public_jobs_job-result-card_result-card_full-click\" data-tracking-will-navigate=\"\" href=\"https://in.linkedin.com/jobs/view/data-science-engineer-at-eminence-core-solutions-llp-1881085257?refId=344fb53c-1ccf-4804-a9cb-2d1392ea29b2&amp;position=14&amp;pageNum=0&amp;trk=public_jobs_job-result-card_result-card_full-click\"><span class=\"screen-reader-text\">Data Science Engineer</span></a><img alt=\"EMINENCE CORE SOLUTIONS LLP\" aria-hidden=\"true\" class=\"artdeco-entity-image job-result-card artdeco-entity-image--company job-result-card--company artdeco-entity-image--square-4 job-result-card--square-4 result-card__image lazy-load\" data-delayed-url=\"https://media-exp1.licdn.com/dms/image/C510BAQFtO9Feea9RaA/company-logo_100_100/0?e=1598486400&amp;v=beta&amp;t=URJHTYYgd6wVwVFNANxPOKVEJH5Uc6nwOkPaHXWnQFA\" data-ghost-classes=\"artdeco-entity-image--ghost job-result-card--ghost artdeco-entity-image--ghost-company job-result-card--ghost-company\" data-ghost-url=\"https://static-exp1.licdn.com/sc/p/com.linkedin.jobs-guest-frontend%3Ajobs-guest-frontend-static-content%2B0.0.2595/f/%2Fjobs-guest-frontend%2Fartdeco%2Fstatic%2Fimages%2Fghost-images%2Fcompany.svg\"/><div class=\"result-card__contents job-result-card__contents\"><h3 class=\"result-card__title job-result-card__title\">Data Science Engineer</h3><h4 class=\"result-card__subtitle job-result-card__subtitle\"><a class=\"result-card__subtitle-link job-result-card__subtitle-link\" data-tracking-control-name=\"public_jobs_job-result-card_result-card_subtitle-click\" data-tracking-will-navigate=\"\" href=\"https://in.linkedin.com/company/eminence-core-solutions-llp?trk=public_jobs_job-result-card_result-card_subtitle-click\">EMINENCE CORE SOLUTIONS LLP</a></h4><div class=\"result-card__meta job-result-card__meta\"><span class=\"job-result-card__location\">Pune, Maharashtra, India</span><time class=\"job-result-card__listdate--new\" datetime=\"2020-05-27\">9 hours ago</time></div></div><div class=\"job-result-card__right-corner\"></div></li><li class=\"result-card job-result-card result-card--with-hover-state\" data-column=\"1\" data-entity-urn=\"urn:li:jobPosting:1875823307\" data-id=\"1875823307\" data-row=\"15\" data-search-id=\"344fb53c-1ccf-4804-a9cb-2d1392ea29b2\" data-tracking-id=\"diBHSbO8RZC3oeFZn3oOlg==\"><a class=\"result-card__full-card-link\" data-tracking-control-name=\"public_jobs_job-result-card_result-card_full-click\" data-tracking-will-navigate=\"\" href=\"https://in.linkedin.com/jobs/view/associate-data-analyst-at-myntra-1875823307?refId=344fb53c-1ccf-4804-a9cb-2d1392ea29b2&amp;position=15&amp;pageNum=0&amp;trk=public_jobs_job-result-card_result-card_full-click\"><span class=\"screen-reader-text\">Associate - Data Analyst</span></a><img alt=\"Myntra\" aria-hidden=\"true\" class=\"artdeco-entity-image job-result-card artdeco-entity-image--company job-result-card--company artdeco-entity-image--square-4 job-result-card--square-4 result-card__image lazy-load\" data-delayed-url=\"https://media-exp1.licdn.com/dms/image/C510BAQHdq_DOZ5jBFA/company-logo_100_100/0?e=1598486400&amp;v=beta&amp;t=HSTq24L4dQSrF6LXJY14gc52vcJMRAPjLLsh6mm2-GY\" data-ghost-classes=\"artdeco-entity-image--ghost job-result-card--ghost artdeco-entity-image--ghost-company job-result-card--ghost-company\" data-ghost-url=\"https://static-exp1.licdn.com/sc/p/com.linkedin.jobs-guest-frontend%3Ajobs-guest-frontend-static-content%2B0.0.2595/f/%2Fjobs-guest-frontend%2Fartdeco%2Fstatic%2Fimages%2Fghost-images%2Fcompany.svg\"/><div class=\"result-card__contents job-result-card__contents\"><h3 class=\"result-card__title job-result-card__title\">Associate - Data Analyst</h3><h4 class=\"result-card__subtitle job-result-card__subtitle\"><a class=\"result-card__subtitle-link job-result-card__subtitle-link\" data-tracking-control-name=\"public_jobs_job-result-card_result-card_subtitle-click\" data-tracking-will-navigate=\"\" href=\"https://in.linkedin.com/company/myntra?trk=public_jobs_job-result-card_result-card_subtitle-click\">Myntra</a></h4><div class=\"result-card__meta job-result-card__meta\"><span class=\"job-result-card__location\">Bengaluru, Karnataka, India</span><time class=\"job-result-card__listdate--new\" datetime=\"2020-05-27\">9 hours ago</time></div></div><div class=\"job-result-card__right-corner\"></div></li><li class=\"result-card job-result-card result-card--with-hover-state\" data-column=\"1\" data-entity-urn=\"urn:li:jobPosting:1875821004\" data-id=\"1875821004\" data-row=\"16\" data-search-id=\"344fb53c-1ccf-4804-a9cb-2d1392ea29b2\" data-tracking-id=\"QF3va/2VQyWc8LWXhAcSgA==\"><a class=\"result-card__full-card-link\" data-tracking-control-name=\"public_jobs_job-result-card_result-card_full-click\" data-tracking-will-navigate=\"\" href=\"https://in.linkedin.com/jobs/view/senior-data-science-application-developer-at-johnson-johnson-1875821004?refId=344fb53c-1ccf-4804-a9cb-2d1392ea29b2&amp;position=16&amp;pageNum=0&amp;trk=public_jobs_job-result-card_result-card_full-click\"><span class=\"screen-reader-text\">Senior Data Science Application Developer </span></a><img alt=\"Johnson &amp;amp; Johnson\" aria-hidden=\"true\" class=\"artdeco-entity-image job-result-card artdeco-entity-image--company job-result-card--company artdeco-entity-image--square-4 job-result-card--square-4 result-card__image lazy-load\" data-delayed-url=\"https://media-exp1.licdn.com/dms/image/C4D0BAQFwn8CHaum_AA/company-logo_100_100/0?e=1598486400&amp;v=beta&amp;t=clrEhihCBfCAskTmMoCpCL5c6l_sLdYa3gLUW4L7QVY\" data-ghost-classes=\"artdeco-entity-image--ghost job-result-card--ghost artdeco-entity-image--ghost-company job-result-card--ghost-company\" data-ghost-url=\"https://static-exp1.licdn.com/sc/p/com.linkedin.jobs-guest-frontend%3Ajobs-guest-frontend-static-content%2B0.0.2595/f/%2Fjobs-guest-frontend%2Fartdeco%2Fstatic%2Fimages%2Fghost-images%2Fcompany.svg\"/><div class=\"result-card__contents job-result-card__contents\"><h3 class=\"result-card__title job-result-card__title\">Senior Data Science Application Developer </h3><h4 class=\"result-card__subtitle job-result-card__subtitle\"><a class=\"result-card__subtitle-link job-result-card__subtitle-link\" data-tracking-control-name=\"public_jobs_job-result-card_result-card_subtitle-click\" data-tracking-will-navigate=\"\" href=\"https://www.linkedin.com/company/johnson-&amp;-johnson?trk=public_jobs_job-result-card_result-card_subtitle-click\">Johnson &amp; Johnson</a></h4><div class=\"result-card__meta job-result-card__meta\"><span class=\"job-result-card__location\">Bengaluru, Karnataka, India</span><time class=\"job-result-card__listdate--new\" datetime=\"2020-05-27\">10 hours ago</time></div></div><div class=\"job-result-card__right-corner\"></div></li><li class=\"result-card job-result-card result-card--with-hover-state\" data-column=\"1\" data-entity-urn=\"urn:li:jobPosting:1881015268\" data-id=\"1881015268\" data-row=\"17\" data-search-id=\"344fb53c-1ccf-4804-a9cb-2d1392ea29b2\" data-tracking-id=\"3Pj21GqYTXWMgMSOHHTL9g==\"><a class=\"result-card__full-card-link\" data-tracking-control-name=\"public_jobs_job-result-card_result-card_full-click\" data-tracking-will-navigate=\"\" href=\"https://in.linkedin.com/jobs/view/data-analyst-2-at-acko-1881015268?refId=344fb53c-1ccf-4804-a9cb-2d1392ea29b2&amp;position=17&amp;pageNum=0&amp;trk=public_jobs_job-result-card_result-card_full-click\"><span class=\"screen-reader-text\">Data Analyst - 2</span></a><img alt=\"Acko\" aria-hidden=\"true\" class=\"artdeco-entity-image job-result-card artdeco-entity-image--company job-result-card--company artdeco-entity-image--square-4 job-result-card--square-4 result-card__image lazy-load\" data-delayed-url=\"https://media-exp1.licdn.com/dms/image/C4E0BAQEIXrjDN5FxJA/company-logo_100_100/0?e=1598486400&amp;v=beta&amp;t=HL5WSvEU5xKqAc8JXFHtc7zlJe7gs04c3r_FSGxU8uo\" data-ghost-classes=\"artdeco-entity-image--ghost job-result-card--ghost artdeco-entity-image--ghost-company job-result-card--ghost-company\" data-ghost-url=\"https://static-exp1.licdn.com/sc/p/com.linkedin.jobs-guest-frontend%3Ajobs-guest-frontend-static-content%2B0.0.2595/f/%2Fjobs-guest-frontend%2Fartdeco%2Fstatic%2Fimages%2Fghost-images%2Fcompany.svg\"/><div class=\"result-card__contents job-result-card__contents\"><h3 class=\"result-card__title job-result-card__title\">Data Analyst - 2</h3><h4 class=\"result-card__subtitle job-result-card__subtitle\"><a class=\"result-card__subtitle-link job-result-card__subtitle-link\" data-tracking-control-name=\"public_jobs_job-result-card_result-card_subtitle-click\" data-tracking-will-navigate=\"\" href=\"https://in.linkedin.com/company/acko?trk=public_jobs_job-result-card_result-card_subtitle-click\">Acko</a></h4><div class=\"result-card__meta job-result-card__meta\"><span class=\"job-result-card__location\">Bengaluru, Karnataka, India</span><time class=\"job-result-card__listdate--new\" datetime=\"2020-05-27\">11 hours ago</time></div></div><div class=\"job-result-card__right-corner\"></div></li><li class=\"result-card job-result-card result-card--with-hover-state\" data-column=\"1\" data-entity-urn=\"urn:li:jobPosting:1881001344\" data-id=\"1881001344\" data-row=\"18\" data-search-id=\"344fb53c-1ccf-4804-a9cb-2d1392ea29b2\" data-tracking-id=\"ni/5FiC9SL6xBIOISQQzNg==\"><a class=\"result-card__full-card-link\" data-tracking-control-name=\"public_jobs_job-result-card_result-card_full-click\" data-tracking-will-navigate=\"\" href=\"https://in.linkedin.com/jobs/view/data-science-research-associate-at-iim-ahmedabad-1881001344?refId=344fb53c-1ccf-4804-a9cb-2d1392ea29b2&amp;position=18&amp;pageNum=0&amp;trk=public_jobs_job-result-card_result-card_full-click\"><span class=\"screen-reader-text\">Data Science Research Associate</span></a><img alt=\"IIM Ahmedabad\" aria-hidden=\"true\" class=\"artdeco-entity-image job-result-card artdeco-entity-image--company job-result-card--company artdeco-entity-image--square-4 job-result-card--square-4 artdeco-entity-image--ghost job-result-card--ghost artdeco-entity-image--ghost-company job-result-card--ghost-company result-card__image lazy-load\" data-delayed-url=\"https://static-exp1.licdn.com/sc/p/com.linkedin.jobs-guest-frontend%3Ajobs-guest-frontend-static-content%2B0.0.2595/f/%2Fjobs-guest-frontend%2Fartdeco%2Fstatic%2Fimages%2Fghost-images%2Fcompany.svg\" data-ghost-classes=\"artdeco-entity-image--ghost job-result-card--ghost artdeco-entity-image--ghost-company job-result-card--ghost-company\" data-ghost-url=\"https://static-exp1.licdn.com/sc/p/com.linkedin.jobs-guest-frontend%3Ajobs-guest-frontend-static-content%2B0.0.2595/f/%2Fjobs-guest-frontend%2Fartdeco%2Fstatic%2Fimages%2Fghost-images%2Fcompany.svg\"/><div class=\"result-card__contents job-result-card__contents\"><h3 class=\"result-card__title job-result-card__title\">Data Science Research Associate</h3><h4 class=\"result-card__subtitle job-result-card__subtitle\">IIM Ahmedabad</h4><div class=\"result-card__meta job-result-card__meta\"><span class=\"job-result-card__location\">Ahmadabad, Gujarat, India</span><time class=\"job-result-card__listdate--new\" datetime=\"2020-05-27\">12 hours ago</time></div></div><div class=\"job-result-card__right-corner\"></div></li><li class=\"result-card job-result-card result-card--with-hover-state\" data-column=\"1\" data-entity-urn=\"urn:li:jobPosting:1875809310\" data-id=\"1875809310\" data-row=\"19\" data-search-id=\"344fb53c-1ccf-4804-a9cb-2d1392ea29b2\" data-tracking-id=\"Qen4681eSx2K47RABgg8qw==\"><a class=\"result-card__full-card-link\" data-tracking-control-name=\"public_jobs_job-result-card_result-card_full-click\" data-tracking-will-navigate=\"\" href=\"https://in.linkedin.com/jobs/view/data-scientist-at-sony-research-india-1875809310?refId=344fb53c-1ccf-4804-a9cb-2d1392ea29b2&amp;position=19&amp;pageNum=0&amp;trk=public_jobs_job-result-card_result-card_full-click\"><span class=\"screen-reader-text\">Data Scientist</span></a><img alt=\"Sony Research India\" aria-hidden=\"true\" class=\"artdeco-entity-image job-result-card artdeco-entity-image--company job-result-card--company artdeco-entity-image--square-4 job-result-card--square-4 result-card__image lazy-load\" data-delayed-url=\"https://media-exp1.licdn.com/dms/image/C510BAQGWrS2ckB1waQ/company-logo_100_100/0?e=1598486400&amp;v=beta&amp;t=rvAZ38GfILGIaDJN60Mz_r53v-x5tVTnq0TA94BCy-Q\" data-ghost-classes=\"artdeco-entity-image--ghost job-result-card--ghost artdeco-entity-image--ghost-company job-result-card--ghost-company\" data-ghost-url=\"https://static-exp1.licdn.com/sc/p/com.linkedin.jobs-guest-frontend%3Ajobs-guest-frontend-static-content%2B0.0.2595/f/%2Fjobs-guest-frontend%2Fartdeco%2Fstatic%2Fimages%2Fghost-images%2Fcompany.svg\"/><div class=\"result-card__contents job-result-card__contents\"><h3 class=\"result-card__title job-result-card__title\">Data Scientist</h3><h4 class=\"result-card__subtitle job-result-card__subtitle\"><a class=\"result-card__subtitle-link job-result-card__subtitle-link\" data-tracking-control-name=\"public_jobs_job-result-card_result-card_subtitle-click\" data-tracking-will-navigate=\"\" href=\"https://in.linkedin.com/company/sony-r-d-center-india?trk=public_jobs_job-result-card_result-card_subtitle-click\">Sony Research India</a></h4><div class=\"result-card__meta job-result-card__meta\"><span class=\"job-result-card__location\">Mumbai, Maharashtra, India</span><time class=\"job-result-card__listdate--new\" datetime=\"2020-05-27\">12 hours ago</time><span class=\"job-result-card__easy-apply-label\">Apply Now</span></div></div><div class=\"job-result-card__right-corner\"></div></li><li class=\"result-card job-result-card result-card--with-hover-state\" data-column=\"1\" data-entity-urn=\"urn:li:jobPosting:1875810206\" data-id=\"1875810206\" data-row=\"20\" data-search-id=\"344fb53c-1ccf-4804-a9cb-2d1392ea29b2\" data-tracking-id=\"/jEJnqV1TZC4cX/XBgAkOA==\"><a class=\"result-card__full-card-link\" data-tracking-control-name=\"public_jobs_job-result-card_result-card_full-click\" data-tracking-will-navigate=\"\" href=\"https://in.linkedin.com/jobs/view/business-data-analyst-dist-ops-at-lennox-india-technology-centre-1875810206?refId=344fb53c-1ccf-4804-a9cb-2d1392ea29b2&amp;position=20&amp;pageNum=0&amp;trk=public_jobs_job-result-card_result-card_full-click\"><span class=\"screen-reader-text\">Business Data Analyst - Dist Ops</span></a><img alt=\"Lennox India Technology Centre\" aria-hidden=\"true\" class=\"artdeco-entity-image job-result-card artdeco-entity-image--company job-result-card--company artdeco-entity-image--square-4 job-result-card--square-4 result-card__image lazy-load\" data-delayed-url=\"https://media-exp1.licdn.com/dms/image/C510BAQElgIn2jDCWYQ/company-logo_100_100/0?e=1598486400&amp;v=beta&amp;t=r-mihDQtH8B6wLhgS11l7jLMj9L8nNqAEfsll0onCds\" data-ghost-classes=\"artdeco-entity-image--ghost job-result-card--ghost artdeco-entity-image--ghost-company job-result-card--ghost-company\" data-ghost-url=\"https://static-exp1.licdn.com/sc/p/com.linkedin.jobs-guest-frontend%3Ajobs-guest-frontend-static-content%2B0.0.2595/f/%2Fjobs-guest-frontend%2Fartdeco%2Fstatic%2Fimages%2Fghost-images%2Fcompany.svg\"/><div class=\"result-card__contents job-result-card__contents\"><h3 class=\"result-card__title job-result-card__title\">Business Data Analyst - Dist Ops</h3><h4 class=\"result-card__subtitle job-result-card__subtitle\"><a class=\"result-card__subtitle-link job-result-card__subtitle-link\" data-tracking-control-name=\"public_jobs_job-result-card_result-card_subtitle-click\" data-tracking-will-navigate=\"\" href=\"https://in.linkedin.com/company/lennox_india_technology_centre?trk=public_jobs_job-result-card_result-card_subtitle-click\">Lennox India Technology Centre</a></h4><div class=\"result-card__meta job-result-card__meta\"><span class=\"job-result-card__location\">Chennai, Tamil Nadu, India</span><time class=\"job-result-card__listdate--new\" datetime=\"2020-05-27\">12 hours ago</time></div></div><div class=\"job-result-card__right-corner\"></div></li><li class=\"result-card job-result-card result-card--with-hover-state\" data-column=\"1\" data-entity-urn=\"urn:li:jobPosting:1875806654\" data-id=\"1875806654\" data-row=\"21\" data-search-id=\"344fb53c-1ccf-4804-a9cb-2d1392ea29b2\" data-tracking-id=\"nV0uAZMdQnuNsZzIiVHKTQ==\"><a class=\"result-card__full-card-link\" data-tracking-control-name=\"public_jobs_job-result-card_result-card_full-click\" data-tracking-will-navigate=\"\" href=\"https://in.linkedin.com/jobs/view/big-data-developer-at-infogain-1875806654?refId=344fb53c-1ccf-4804-a9cb-2d1392ea29b2&amp;position=21&amp;pageNum=0&amp;trk=public_jobs_job-result-card_result-card_full-click\"><span class=\"screen-reader-text\">Big Data Developer</span></a><img alt=\"Infogain\" aria-hidden=\"true\" class=\"artdeco-entity-image job-result-card artdeco-entity-image--company job-result-card--company artdeco-entity-image--square-4 job-result-card--square-4 result-card__image lazy-load\" data-delayed-url=\"https://media-exp1.licdn.com/dms/image/C510BAQHzCj5jr24FAg/company-logo_100_100/0?e=1598486400&amp;v=beta&amp;t=VRxCyYf76Y1YSdgmXk2gLgruFXtl2ztZGAtN6hDMEKc\" data-ghost-classes=\"artdeco-entity-image--ghost job-result-card--ghost artdeco-entity-image--ghost-company job-result-card--ghost-company\" data-ghost-url=\"https://static-exp1.licdn.com/sc/p/com.linkedin.jobs-guest-frontend%3Ajobs-guest-frontend-static-content%2B0.0.2595/f/%2Fjobs-guest-frontend%2Fartdeco%2Fstatic%2Fimages%2Fghost-images%2Fcompany.svg\"/><div class=\"result-card__contents job-result-card__contents\"><h3 class=\"result-card__title job-result-card__title\">Big Data Developer</h3><h4 class=\"result-card__subtitle job-result-card__subtitle\"><a class=\"result-card__subtitle-link job-result-card__subtitle-link\" data-tracking-control-name=\"public_jobs_job-result-card_result-card_subtitle-click\" data-tracking-will-navigate=\"\" href=\"https://www.linkedin.com/company/infogain?trk=public_jobs_job-result-card_result-card_subtitle-click\">Infogain</a></h4><div class=\"result-card__meta job-result-card__meta\"><span class=\"job-result-card__location\">Gurgaon, Haryana, India</span><time class=\"job-result-card__listdate--new\" datetime=\"2020-05-27\">13 hours ago</time><span class=\"job-result-card__easy-apply-label\">Apply Now</span></div></div><div class=\"job-result-card__right-corner\"></div></li><li class=\"result-card job-result-card result-card--with-hover-state\" data-column=\"1\" data-entity-urn=\"urn:li:jobPosting:1875804756\" data-id=\"1875804756\" data-row=\"22\" data-search-id=\"344fb53c-1ccf-4804-a9cb-2d1392ea29b2\" data-tracking-id=\"VAh62eFmQdewYjWt/YNrTA==\"><a class=\"result-card__full-card-link\" data-tracking-control-name=\"public_jobs_job-result-card_result-card_full-click\" data-tracking-will-navigate=\"\" href=\"https://in.linkedin.com/jobs/view/senior-data-analyst-at-hcl-technologies-1875804756?refId=344fb53c-1ccf-4804-a9cb-2d1392ea29b2&amp;position=22&amp;pageNum=0&amp;trk=public_jobs_job-result-card_result-card_full-click\"><span class=\"screen-reader-text\">Senior Data Analyst</span></a><img alt=\"HCL Technologies\" aria-hidden=\"true\" class=\"artdeco-entity-image job-result-card artdeco-entity-image--company job-result-card--company artdeco-entity-image--square-4 job-result-card--square-4 result-card__image lazy-load\" data-delayed-url=\"https://media-exp1.licdn.com/dms/image/C510BAQHeiHzIxnbyOQ/company-logo_100_100/0?e=1598486400&amp;v=beta&amp;t=D4niI752VaG0dJrBr9Ad-5HKpDEmtTAS31pqhT8vcfo\" data-ghost-classes=\"artdeco-entity-image--ghost job-result-card--ghost artdeco-entity-image--ghost-company job-result-card--ghost-company\" data-ghost-url=\"https://static-exp1.licdn.com/sc/p/com.linkedin.jobs-guest-frontend%3Ajobs-guest-frontend-static-content%2B0.0.2595/f/%2Fjobs-guest-frontend%2Fartdeco%2Fstatic%2Fimages%2Fghost-images%2Fcompany.svg\"/><div class=\"result-card__contents job-result-card__contents\"><h3 class=\"result-card__title job-result-card__title\">Senior Data Analyst</h3><h4 class=\"result-card__subtitle job-result-card__subtitle\"><a class=\"result-card__subtitle-link job-result-card__subtitle-link\" data-tracking-control-name=\"public_jobs_job-result-card_result-card_subtitle-click\" data-tracking-will-navigate=\"\" href=\"https://in.linkedin.com/company/hcl-technologies?trk=public_jobs_job-result-card_result-card_subtitle-click\">HCL Technologies</a></h4><div class=\"result-card__meta job-result-card__meta\"><span class=\"job-result-card__location\">Noida, Uttar Pradesh, India</span><time class=\"job-result-card__listdate--new\" datetime=\"2020-05-27\">13 hours ago</time><span class=\"job-result-card__easy-apply-label\">Apply Now</span></div></div><div class=\"job-result-card__right-corner\"></div></li><li class=\"result-card job-result-card result-card--with-hover-state\" data-column=\"1\" data-entity-urn=\"urn:li:jobPosting:1862202465\" data-id=\"1862202465\" data-row=\"23\" data-search-id=\"344fb53c-1ccf-4804-a9cb-2d1392ea29b2\" data-tracking-id=\"VPhEW606QseWI+y83Tb1OA==\"><a class=\"result-card__full-card-link\" data-tracking-control-name=\"public_jobs_job-result-card_result-card_full-click\" data-tracking-will-navigate=\"\" href=\"https://in.linkedin.com/jobs/view/principal-data-scientist-software-development-manager-at-ibm-1862202465?refId=344fb53c-1ccf-4804-a9cb-2d1392ea29b2&amp;position=23&amp;pageNum=0&amp;trk=public_jobs_job-result-card_result-card_full-click\"><span class=\"screen-reader-text\">Principal Data Scientist &amp; Software Development Manager</span></a><img alt=\"IBM\" aria-hidden=\"true\" class=\"artdeco-entity-image job-result-card artdeco-entity-image--company job-result-card--company artdeco-entity-image--square-4 job-result-card--square-4 result-card__image lazy-load\" data-delayed-url=\"https://media-exp1.licdn.com/dms/image/C4E0BAQGnYJiWaENTZA/company-logo_100_100/0?e=1598486400&amp;v=beta&amp;t=7hxFGbP3YZx0Kk09ST9qlgvxvLQlVrYf20Opn94k2Qs\" data-ghost-classes=\"artdeco-entity-image--ghost job-result-card--ghost artdeco-entity-image--ghost-company job-result-card--ghost-company\" data-ghost-url=\"https://static-exp1.licdn.com/sc/p/com.linkedin.jobs-guest-frontend%3Ajobs-guest-frontend-static-content%2B0.0.2595/f/%2Fjobs-guest-frontend%2Fartdeco%2Fstatic%2Fimages%2Fghost-images%2Fcompany.svg\"/><div class=\"result-card__contents job-result-card__contents\"><h3 class=\"result-card__title job-result-card__title\">Principal Data Scientist &amp; Software Development Manager</h3><h4 class=\"result-card__subtitle job-result-card__subtitle\"><a class=\"result-card__subtitle-link job-result-card__subtitle-link\" data-tracking-control-name=\"public_jobs_job-result-card_result-card_subtitle-click\" data-tracking-will-navigate=\"\" href=\"https://www.linkedin.com/company/ibm?trk=public_jobs_job-result-card_result-card_subtitle-click\">IBM</a></h4><div class=\"result-card__meta job-result-card__meta\"><span class=\"job-result-card__location\">Bengaluru, Karnataka, India</span><time class=\"job-result-card__listdate--new\" datetime=\"2020-05-27\">14 hours ago</time></div></div><div class=\"job-result-card__right-corner\"></div></li><li class=\"result-card job-result-card result-card--with-hover-state\" data-column=\"1\" data-entity-urn=\"urn:li:jobPosting:1880764575\" data-id=\"1880764575\" data-row=\"24\" data-search-id=\"344fb53c-1ccf-4804-a9cb-2d1392ea29b2\" data-tracking-id=\"J5ImlXYSQqumBQQNBTJmZw==\"><a class=\"result-card__full-card-link\" data-tracking-control-name=\"public_jobs_job-result-card_result-card_full-click\" data-tracking-will-navigate=\"\" href=\"https://in.linkedin.com/jobs/view/professor-associate-professor-assistant-professor-centre-of-excellence-in-analytics-data-science-at-svkm-s-narsee-monjee-institute-of-management-studies-nmims-1880764575?refId=344fb53c-1ccf-4804-a9cb-2d1392ea29b2&amp;position=24&amp;pageNum=0&amp;trk=public_jobs_job-result-card_result-card_full-click\"><span class=\"screen-reader-text\">Professor / Associate Professor / Assistant Professor : Centre of Excellence in Analytics &amp; Data Science</span></a><img alt=\"SVKM&amp;#39;s Narsee Monjee Institute of Management Studies (NMIMS)\" aria-hidden=\"true\" class=\"artdeco-entity-image job-result-card artdeco-entity-image--company job-result-card--company artdeco-entity-image--square-4 job-result-card--square-4 result-card__image lazy-load\" data-delayed-url=\"https://media-exp1.licdn.com/dms/image/C510BAQHW16ttC_rbmQ/company-logo_100_100/0?e=1598486400&amp;v=beta&amp;t=wP7e7sLclnZAZpMWEJarfbI5sZ4iwHtAKkIp_VO2DNM\" data-ghost-classes=\"artdeco-entity-image--ghost job-result-card--ghost artdeco-entity-image--ghost-company job-result-card--ghost-company\" data-ghost-url=\"https://static-exp1.licdn.com/sc/p/com.linkedin.jobs-guest-frontend%3Ajobs-guest-frontend-static-content%2B0.0.2595/f/%2Fjobs-guest-frontend%2Fartdeco%2Fstatic%2Fimages%2Fghost-images%2Fcompany.svg\"/><div class=\"result-card__contents job-result-card__contents\"><h3 class=\"result-card__title job-result-card__title\">Professor / Associate Professor / Assistant Professor : Centre of Excellence in Analytics &amp; Data Science</h3><h4 class=\"result-card__subtitle job-result-card__subtitle\"><a class=\"result-card__subtitle-link job-result-card__subtitle-link\" data-tracking-control-name=\"public_jobs_job-result-card_result-card_subtitle-click\" data-tracking-will-navigate=\"\" href=\"https://in.linkedin.com/company/nmims_india?trk=public_jobs_job-result-card_result-card_subtitle-click\">SVKM's Narsee Monjee Institute of Management Studies (NMIMS)</a></h4><div class=\"result-card__meta job-result-card__meta\"><span class=\"job-result-card__location\">Mumbai, Maharashtra, India</span><time class=\"job-result-card__listdate--new\" datetime=\"2020-05-27\">14 hours ago</time></div></div><div class=\"job-result-card__right-corner\"></div></li><li class=\"result-card job-result-card result-card--with-hover-state\" data-column=\"1\" data-entity-urn=\"urn:li:jobPosting:1845927075\" data-id=\"1845927075\" data-row=\"25\" data-search-id=\"344fb53c-1ccf-4804-a9cb-2d1392ea29b2\" data-tracking-id=\"pYJhGN/GQAmxedkoSS0qRg==\"><a class=\"result-card__full-card-link\" data-tracking-control-name=\"public_jobs_job-result-card_result-card_full-click\" data-tracking-will-navigate=\"\" href=\"https://in.linkedin.com/jobs/view/data-analyst-at-aks-protalent-1845927075?refId=344fb53c-1ccf-4804-a9cb-2d1392ea29b2&amp;position=25&amp;pageNum=0&amp;trk=public_jobs_job-result-card_result-card_full-click\"><span class=\"screen-reader-text\">Data Analyst</span></a><img alt=\"AKS ProTalent \" aria-hidden=\"true\" class=\"artdeco-entity-image job-result-card artdeco-entity-image--company job-result-card--company artdeco-entity-image--square-4 job-result-card--square-4 result-card__image lazy-load\" data-delayed-url=\"https://media-exp1.licdn.com/dms/image/C510BAQHOrmBB-s1bPg/company-logo_100_100/0?e=1598486400&amp;v=beta&amp;t=P7nzn_YLMNh7t9tnGAM-yd2vI3l7b7XtYDnnK2CtSQ0\" data-ghost-classes=\"artdeco-entity-image--ghost job-result-card--ghost artdeco-entity-image--ghost-company job-result-card--ghost-company\" data-ghost-url=\"https://static-exp1.licdn.com/sc/p/com.linkedin.jobs-guest-frontend%3Ajobs-guest-frontend-static-content%2B0.0.2595/f/%2Fjobs-guest-frontend%2Fartdeco%2Fstatic%2Fimages%2Fghost-images%2Fcompany.svg\"/><div class=\"result-card__contents job-result-card__contents\"><h3 class=\"result-card__title job-result-card__title\">Data Analyst</h3><h4 class=\"result-card__subtitle job-result-card__subtitle\"><a class=\"result-card__subtitle-link job-result-card__subtitle-link\" data-tracking-control-name=\"public_jobs_job-result-card_result-card_subtitle-click\" data-tracking-will-navigate=\"\" href=\"https://in.linkedin.com/company/aksprotalent?trk=public_jobs_job-result-card_result-card_subtitle-click\">AKS ProTalent </a></h4><div class=\"result-card__meta job-result-card__meta\"><span class=\"job-result-card__location\">Hyderabad, Telangana, India</span><time class=\"job-result-card__listdate--new\" datetime=\"2020-05-27\">15 hours ago</time><span class=\"job-result-card__easy-apply-label\">Apply Now</span></div></div><div class=\"job-result-card__right-corner\"></div></li></ul>"
      ]
     },
     "execution_count": 38,
     "metadata": {},
     "output_type": "execute_result"
    }
   ],
   "source": [
    "job_container"
   ]
  },
  {
   "cell_type": "code",
   "execution_count": 60,
   "metadata": {},
   "outputs": [
    {
     "data": {
      "text/plain": [
       "'Supply Chain Manager'"
      ]
     },
     "execution_count": 60,
     "metadata": {},
     "output_type": "execute_result"
    }
   ],
   "source": [
    " job_titles"
   ]
  },
  {
   "cell_type": "code",
   "execution_count": 61,
   "metadata": {},
   "outputs": [
    {
     "data": {
      "text/plain": [
       "['Viaprom Technologies Pvt Ltd',\n",
       " 'Sony Research India',\n",
       " 'SVKM&#39;s Narsee Monjee Institute of Management Studies (NMIMS)',\n",
       " 'General Mills',\n",
       " 'General Mills',\n",
       " 'Viacom18 Media Private Limited',\n",
       " 'Career Makers',\n",
       " 'Vision Insight',\n",
       " 'Time Analytic &amp; Shared Services Pvt. Ltd',\n",
       " 'ISS | Institutional Shareholder Services',\n",
       " 'ISS | Institutional Shareholder Services',\n",
       " 'Epicurean Enterprises Pvt Ltd',\n",
       " 'Square Panda Inc.',\n",
       " 'HireTale',\n",
       " 'Square Panda Inc.',\n",
       " 'Assort Staffing',\n",
       " 'Quantsapp Pvt. Ltd.',\n",
       " 'ImpactGuru',\n",
       " 'Crescendo Global ',\n",
       " 'Mactores',\n",
       " 'Quantsapp Pvt. Ltd.',\n",
       " 'Square Panda Inc.',\n",
       " 'Indus OS',\n",
       " 'Sugarbox Networks pvt ltd',\n",
       " 'NCR India']"
      ]
     },
     "execution_count": 61,
     "metadata": {},
     "output_type": "execute_result"
    }
   ],
   "source": [
    "company_name"
   ]
  },
  {
   "cell_type": "code",
   "execution_count": null,
   "metadata": {},
   "outputs": [],
   "source": []
  }
 ],
 "metadata": {
  "kernelspec": {
   "display_name": "Python 3",
   "language": "python",
   "name": "python3"
  },
  "language_info": {
   "codemirror_mode": {
    "name": "ipython",
    "version": 3
   },
   "file_extension": ".py",
   "mimetype": "text/x-python",
   "name": "python",
   "nbconvert_exporter": "python",
   "pygments_lexer": "ipython3",
   "version": "3.7.6"
  }
 },
 "nbformat": 4,
 "nbformat_minor": 4
}
